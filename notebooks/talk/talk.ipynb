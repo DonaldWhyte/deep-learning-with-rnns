{
 "cells": [
  {
   "cell_type": "code",
   "execution_count": 1,
   "metadata": {},
   "outputs": [
    {
     "name": "stderr",
     "output_type": "stream",
     "text": [
      "Using TensorFlow backend.\n"
     ]
    }
   ],
   "source": [
    "import keras\n",
    "from keras.utils import plot_model"
   ]
  },
  {
   "cell_type": "code",
   "execution_count": 2,
   "metadata": {
    "collapsed": true
   },
   "outputs": [],
   "source": [
    "from keras.models import Sequential\n",
    "\n",
    "model = Sequential()\n",
    "\n",
    "from keras.layers import Dense, Activation\n",
    "\n",
    "model.add(Dense(units=64, input_dim=100))\n",
    "model.add(Activation('relu'))\n",
    "model.add(Dense(units=10))\n",
    "model.add(Activation('softmax'))"
   ]
  },
  {
   "cell_type": "code",
   "execution_count": 10,
   "metadata": {},
   "outputs": [
    {
     "data": {
      "image/svg+xml": [
       "<svg height=\"377pt\" viewBox=\"0.00 0.00 225.51 377.00\" width=\"226pt\" xmlns=\"http://www.w3.org/2000/svg\" xmlns:xlink=\"http://www.w3.org/1999/xlink\">\n",
       "<g class=\"graph\" id=\"graph0\" transform=\"scale(1 1) rotate(0) translate(4 373)\">\n",
       "<title>G</title>\n",
       "<polygon fill=\"#ffffff\" points=\"-4,4 -4,-373 221.5107,-373 221.5107,4 -4,4\" stroke=\"transparent\"/>\n",
       "<!-- 4721730840 -->\n",
       "<g class=\"node\" id=\"node1\">\n",
       "<title>4721730840</title>\n",
       "<polygon fill=\"none\" points=\"0,-324.5 0,-368.5 217.5107,-368.5 217.5107,-324.5 0,-324.5\" stroke=\"#000000\"/>\n",
       "<text fill=\"#000000\" font-family=\"Times,serif\" font-size=\"14.00\" text-anchor=\"middle\" x=\"39.0967\" y=\"-342.3\">InputLayer</text>\n",
       "<polyline fill=\"none\" points=\"78.1934,-324.5 78.1934,-368.5 \" stroke=\"#000000\"/>\n",
       "<text fill=\"#000000\" font-family=\"Times,serif\" font-size=\"14.00\" text-anchor=\"middle\" x=\"106.0278\" y=\"-353.3\">input:</text>\n",
       "<polyline fill=\"none\" points=\"78.1934,-346.5 133.8623,-346.5 \" stroke=\"#000000\"/>\n",
       "<text fill=\"#000000\" font-family=\"Times,serif\" font-size=\"14.00\" text-anchor=\"middle\" x=\"106.0278\" y=\"-331.3\">output:</text>\n",
       "<polyline fill=\"none\" points=\"133.8623,-324.5 133.8623,-368.5 \" stroke=\"#000000\"/>\n",
       "<text fill=\"#000000\" font-family=\"Times,serif\" font-size=\"14.00\" text-anchor=\"middle\" x=\"175.6865\" y=\"-353.3\">(None, 100)</text>\n",
       "<polyline fill=\"none\" points=\"133.8623,-346.5 217.5107,-346.5 \" stroke=\"#000000\"/>\n",
       "<text fill=\"#000000\" font-family=\"Times,serif\" font-size=\"14.00\" text-anchor=\"middle\" x=\"175.6865\" y=\"-331.3\">(None, 100)</text>\n",
       "</g>\n",
       "<!-- 4721730448 -->\n",
       "<g class=\"node\" id=\"node2\">\n",
       "<title>4721730448</title>\n",
       "<polygon fill=\"none\" points=\"13.6035,-243.5 13.6035,-287.5 203.9072,-287.5 203.9072,-243.5 13.6035,-243.5\" stroke=\"#000000\"/>\n",
       "<text fill=\"#000000\" font-family=\"Times,serif\" font-size=\"14.00\" text-anchor=\"middle\" x=\"39.0967\" y=\"-261.3\">Dense</text>\n",
       "<polyline fill=\"none\" points=\"64.5898,-243.5 64.5898,-287.5 \" stroke=\"#000000\"/>\n",
       "<text fill=\"#000000\" font-family=\"Times,serif\" font-size=\"14.00\" text-anchor=\"middle\" x=\"92.4243\" y=\"-272.3\">input:</text>\n",
       "<polyline fill=\"none\" points=\"64.5898,-265.5 120.2588,-265.5 \" stroke=\"#000000\"/>\n",
       "<text fill=\"#000000\" font-family=\"Times,serif\" font-size=\"14.00\" text-anchor=\"middle\" x=\"92.4243\" y=\"-250.3\">output:</text>\n",
       "<polyline fill=\"none\" points=\"120.2588,-243.5 120.2588,-287.5 \" stroke=\"#000000\"/>\n",
       "<text fill=\"#000000\" font-family=\"Times,serif\" font-size=\"14.00\" text-anchor=\"middle\" x=\"162.083\" y=\"-272.3\">(None, 100)</text>\n",
       "<polyline fill=\"none\" points=\"120.2588,-265.5 203.9072,-265.5 \" stroke=\"#000000\"/>\n",
       "<text fill=\"#000000\" font-family=\"Times,serif\" font-size=\"14.00\" text-anchor=\"middle\" x=\"162.083\" y=\"-250.3\">(None, 64)</text>\n",
       "</g>\n",
       "<!-- 4721730840&#45;&gt;4721730448 -->\n",
       "<g class=\"edge\" id=\"edge1\">\n",
       "<title>4721730840-&gt;4721730448</title>\n",
       "<path d=\"M108.7554,-324.3664C108.7554,-316.1516 108.7554,-306.6579 108.7554,-297.7252\" fill=\"none\" stroke=\"#000000\"/>\n",
       "<polygon fill=\"#000000\" points=\"112.2555,-297.6068 108.7554,-287.6068 105.2555,-297.6069 112.2555,-297.6068\" stroke=\"#000000\"/>\n",
       "</g>\n",
       "<!-- 4721730560 -->\n",
       "<g class=\"node\" id=\"node3\">\n",
       "<title>4721730560</title>\n",
       "<polygon fill=\"none\" points=\"5.0483,-162.5 5.0483,-206.5 212.4624,-206.5 212.4624,-162.5 5.0483,-162.5\" stroke=\"#000000\"/>\n",
       "<text fill=\"#000000\" font-family=\"Times,serif\" font-size=\"14.00\" text-anchor=\"middle\" x=\"42.5967\" y=\"-180.3\">Activation</text>\n",
       "<polyline fill=\"none\" points=\"80.145,-162.5 80.145,-206.5 \" stroke=\"#000000\"/>\n",
       "<text fill=\"#000000\" font-family=\"Times,serif\" font-size=\"14.00\" text-anchor=\"middle\" x=\"107.9795\" y=\"-191.3\">input:</text>\n",
       "<polyline fill=\"none\" points=\"80.145,-184.5 135.814,-184.5 \" stroke=\"#000000\"/>\n",
       "<text fill=\"#000000\" font-family=\"Times,serif\" font-size=\"14.00\" text-anchor=\"middle\" x=\"107.9795\" y=\"-169.3\">output:</text>\n",
       "<polyline fill=\"none\" points=\"135.814,-162.5 135.814,-206.5 \" stroke=\"#000000\"/>\n",
       "<text fill=\"#000000\" font-family=\"Times,serif\" font-size=\"14.00\" text-anchor=\"middle\" x=\"174.1382\" y=\"-191.3\">(None, 64)</text>\n",
       "<polyline fill=\"none\" points=\"135.814,-184.5 212.4624,-184.5 \" stroke=\"#000000\"/>\n",
       "<text fill=\"#000000\" font-family=\"Times,serif\" font-size=\"14.00\" text-anchor=\"middle\" x=\"174.1382\" y=\"-169.3\">(None, 64)</text>\n",
       "</g>\n",
       "<!-- 4721730448&#45;&gt;4721730560 -->\n",
       "<g class=\"edge\" id=\"edge2\">\n",
       "<title>4721730448-&gt;4721730560</title>\n",
       "<path d=\"M108.7554,-243.3664C108.7554,-235.1516 108.7554,-225.6579 108.7554,-216.7252\" fill=\"none\" stroke=\"#000000\"/>\n",
       "<polygon fill=\"#000000\" points=\"112.2555,-216.6068 108.7554,-206.6068 105.2555,-216.6069 112.2555,-216.6068\" stroke=\"#000000\"/>\n",
       "</g>\n",
       "<!-- 4721731512 -->\n",
       "<g class=\"node\" id=\"node4\">\n",
       "<title>4721731512</title>\n",
       "<polygon fill=\"none\" points=\"17.1035,-81.5 17.1035,-125.5 200.4072,-125.5 200.4072,-81.5 17.1035,-81.5\" stroke=\"#000000\"/>\n",
       "<text fill=\"#000000\" font-family=\"Times,serif\" font-size=\"14.00\" text-anchor=\"middle\" x=\"42.5967\" y=\"-99.3\">Dense</text>\n",
       "<polyline fill=\"none\" points=\"68.0898,-81.5 68.0898,-125.5 \" stroke=\"#000000\"/>\n",
       "<text fill=\"#000000\" font-family=\"Times,serif\" font-size=\"14.00\" text-anchor=\"middle\" x=\"95.9243\" y=\"-110.3\">input:</text>\n",
       "<polyline fill=\"none\" points=\"68.0898,-103.5 123.7588,-103.5 \" stroke=\"#000000\"/>\n",
       "<text fill=\"#000000\" font-family=\"Times,serif\" font-size=\"14.00\" text-anchor=\"middle\" x=\"95.9243\" y=\"-88.3\">output:</text>\n",
       "<polyline fill=\"none\" points=\"123.7588,-81.5 123.7588,-125.5 \" stroke=\"#000000\"/>\n",
       "<text fill=\"#000000\" font-family=\"Times,serif\" font-size=\"14.00\" text-anchor=\"middle\" x=\"162.083\" y=\"-110.3\">(None, 64)</text>\n",
       "<polyline fill=\"none\" points=\"123.7588,-103.5 200.4072,-103.5 \" stroke=\"#000000\"/>\n",
       "<text fill=\"#000000\" font-family=\"Times,serif\" font-size=\"14.00\" text-anchor=\"middle\" x=\"162.083\" y=\"-88.3\">(None, 10)</text>\n",
       "</g>\n",
       "<!-- 4721730560&#45;&gt;4721731512 -->\n",
       "<g class=\"edge\" id=\"edge3\">\n",
       "<title>4721730560-&gt;4721731512</title>\n",
       "<path d=\"M108.7554,-162.3664C108.7554,-154.1516 108.7554,-144.6579 108.7554,-135.7252\" fill=\"none\" stroke=\"#000000\"/>\n",
       "<polygon fill=\"#000000\" points=\"112.2555,-135.6068 108.7554,-125.6068 105.2555,-135.6069 112.2555,-135.6068\" stroke=\"#000000\"/>\n",
       "</g>\n",
       "<!-- 4721731736 -->\n",
       "<g class=\"node\" id=\"node5\">\n",
       "<title>4721731736</title>\n",
       "<polygon fill=\"none\" points=\"5.0483,-.5 5.0483,-44.5 212.4624,-44.5 212.4624,-.5 5.0483,-.5\" stroke=\"#000000\"/>\n",
       "<text fill=\"#000000\" font-family=\"Times,serif\" font-size=\"14.00\" text-anchor=\"middle\" x=\"42.5967\" y=\"-18.3\">Activation</text>\n",
       "<polyline fill=\"none\" points=\"80.145,-.5 80.145,-44.5 \" stroke=\"#000000\"/>\n",
       "<text fill=\"#000000\" font-family=\"Times,serif\" font-size=\"14.00\" text-anchor=\"middle\" x=\"107.9795\" y=\"-29.3\">input:</text>\n",
       "<polyline fill=\"none\" points=\"80.145,-22.5 135.814,-22.5 \" stroke=\"#000000\"/>\n",
       "<text fill=\"#000000\" font-family=\"Times,serif\" font-size=\"14.00\" text-anchor=\"middle\" x=\"107.9795\" y=\"-7.3\">output:</text>\n",
       "<polyline fill=\"none\" points=\"135.814,-.5 135.814,-44.5 \" stroke=\"#000000\"/>\n",
       "<text fill=\"#000000\" font-family=\"Times,serif\" font-size=\"14.00\" text-anchor=\"middle\" x=\"174.1382\" y=\"-29.3\">(None, 10)</text>\n",
       "<polyline fill=\"none\" points=\"135.814,-22.5 212.4624,-22.5 \" stroke=\"#000000\"/>\n",
       "<text fill=\"#000000\" font-family=\"Times,serif\" font-size=\"14.00\" text-anchor=\"middle\" x=\"174.1382\" y=\"-7.3\">(None, 10)</text>\n",
       "</g>\n",
       "<!-- 4721731512&#45;&gt;4721731736 -->\n",
       "<g class=\"edge\" id=\"edge4\">\n",
       "<title>4721731512-&gt;4721731736</title>\n",
       "<path d=\"M108.7554,-81.3664C108.7554,-73.1516 108.7554,-63.6579 108.7554,-54.7252\" fill=\"none\" stroke=\"#000000\"/>\n",
       "<polygon fill=\"#000000\" points=\"112.2555,-54.6068 108.7554,-44.6068 105.2555,-54.6069 112.2555,-54.6068\" stroke=\"#000000\"/>\n",
       "</g>\n",
       "</g>\n",
       "</svg>"
      ],
      "text/plain": [
       "<IPython.core.display.SVG object>"
      ]
     },
     "execution_count": 10,
     "metadata": {},
     "output_type": "execute_result"
    }
   ],
   "source": [
    "from IPython.display import SVG\n",
    "from keras.utils.vis_utils import model_to_dot\n",
    "\n",
    "SVG(model_to_dot(model, rankdir='TB', show_shapes=True, show_layer_names=False).create(\n",
    "    prog='dot', format='svg'))"
   ]
  },
  {
   "cell_type": "code",
   "execution_count": null,
   "metadata": {
    "collapsed": true
   },
   "outputs": [],
   "source": []
  }
 ],
 "metadata": {
  "kernelspec": {
   "display_name": "Python 3",
   "language": "python",
   "name": "python3"
  },
  "language_info": {
   "codemirror_mode": {
    "name": "ipython",
    "version": 3
   },
   "file_extension": ".py",
   "mimetype": "text/x-python",
   "name": "python",
   "nbconvert_exporter": "python",
   "pygments_lexer": "ipython3",
   "version": "3.6.1"
  }
 },
 "nbformat": 4,
 "nbformat_minor": 2
}
