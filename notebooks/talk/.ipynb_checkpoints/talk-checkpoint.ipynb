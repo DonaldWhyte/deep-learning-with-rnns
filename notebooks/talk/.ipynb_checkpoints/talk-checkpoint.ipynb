{
 "cells": [
  {
   "cell_type": "code",
   "execution_count": 1,
   "metadata": {},
   "outputs": [
    {
     "name": "stderr",
     "output_type": "stream",
     "text": [
      "Using TensorFlow backend.\n"
     ]
    }
   ],
   "source": [
    "import keras\n",
    "from keras.utils import plot_model"
   ]
  },
  {
   "cell_type": "code",
   "execution_count": 2,
   "metadata": {
    "collapsed": true
   },
   "outputs": [],
   "source": [
    "from keras.models import Sequential\n",
    "\n",
    "model = Sequential()\n",
    "\n",
    "from keras.layers import Dense, Activation\n",
    "\n",
    "model.add(Dense(units=64, input_dim=100))\n",
    "model.add(Activation('relu'))\n",
    "model.add(Dense(units=10))\n",
    "model.add(Activation('softmax'))"
   ]
  },
  {
   "cell_type": "code",
   "execution_count": 9,
   "metadata": {},
   "outputs": [
    {
     "data": {
      "image/svg+xml": [
       "<svg height=\"377pt\" viewBox=\"0.00 0.00 314.56 377.00\" width=\"315pt\" xmlns=\"http://www.w3.org/2000/svg\" xmlns:xlink=\"http://www.w3.org/1999/xlink\">\n",
       "<g class=\"graph\" id=\"graph0\" transform=\"scale(1 1) rotate(0) translate(4 373)\">\n",
       "<title>G</title>\n",
       "<polygon fill=\"#ffffff\" points=\"-4,4 -4,-373 310.5557,-373 310.5557,4 -4,4\" stroke=\"transparent\"/>\n",
       "<!-- 4721730840 -->\n",
       "<g class=\"node\" id=\"node1\">\n",
       "<title>4721730840</title>\n",
       "<polygon fill=\"none\" points=\"0,-324.5 0,-368.5 306.5557,-368.5 306.5557,-324.5 0,-324.5\" stroke=\"#000000\"/>\n",
       "<text fill=\"#000000\" font-family=\"Times,serif\" font-size=\"14.00\" text-anchor=\"middle\" x=\"83.6191\" y=\"-342.3\">dense_1_input: InputLayer</text>\n",
       "<polyline fill=\"none\" points=\"167.2383,-324.5 167.2383,-368.5 \" stroke=\"#000000\"/>\n",
       "<text fill=\"#000000\" font-family=\"Times,serif\" font-size=\"14.00\" text-anchor=\"middle\" x=\"195.0728\" y=\"-353.3\">input:</text>\n",
       "<polyline fill=\"none\" points=\"167.2383,-346.5 222.9072,-346.5 \" stroke=\"#000000\"/>\n",
       "<text fill=\"#000000\" font-family=\"Times,serif\" font-size=\"14.00\" text-anchor=\"middle\" x=\"195.0728\" y=\"-331.3\">output:</text>\n",
       "<polyline fill=\"none\" points=\"222.9072,-324.5 222.9072,-368.5 \" stroke=\"#000000\"/>\n",
       "<text fill=\"#000000\" font-family=\"Times,serif\" font-size=\"14.00\" text-anchor=\"middle\" x=\"264.7314\" y=\"-353.3\">(None, 100)</text>\n",
       "<polyline fill=\"none\" points=\"222.9072,-346.5 306.5557,-346.5 \" stroke=\"#000000\"/>\n",
       "<text fill=\"#000000\" font-family=\"Times,serif\" font-size=\"14.00\" text-anchor=\"middle\" x=\"264.7314\" y=\"-331.3\">(None, 100)</text>\n",
       "</g>\n",
       "<!-- 4721730448 -->\n",
       "<g class=\"node\" id=\"node2\">\n",
       "<title>4721730448</title>\n",
       "<polygon fill=\"none\" points=\"31.4932,-243.5 31.4932,-287.5 275.0625,-287.5 275.0625,-243.5 31.4932,-243.5\" stroke=\"#000000\"/>\n",
       "<text fill=\"#000000\" font-family=\"Times,serif\" font-size=\"14.00\" text-anchor=\"middle\" x=\"83.6191\" y=\"-261.3\">dense_1: Dense</text>\n",
       "<polyline fill=\"none\" points=\"135.7451,-243.5 135.7451,-287.5 \" stroke=\"#000000\"/>\n",
       "<text fill=\"#000000\" font-family=\"Times,serif\" font-size=\"14.00\" text-anchor=\"middle\" x=\"163.5796\" y=\"-272.3\">input:</text>\n",
       "<polyline fill=\"none\" points=\"135.7451,-265.5 191.4141,-265.5 \" stroke=\"#000000\"/>\n",
       "<text fill=\"#000000\" font-family=\"Times,serif\" font-size=\"14.00\" text-anchor=\"middle\" x=\"163.5796\" y=\"-250.3\">output:</text>\n",
       "<polyline fill=\"none\" points=\"191.4141,-243.5 191.4141,-287.5 \" stroke=\"#000000\"/>\n",
       "<text fill=\"#000000\" font-family=\"Times,serif\" font-size=\"14.00\" text-anchor=\"middle\" x=\"233.2383\" y=\"-272.3\">(None, 100)</text>\n",
       "<polyline fill=\"none\" points=\"191.4141,-265.5 275.0625,-265.5 \" stroke=\"#000000\"/>\n",
       "<text fill=\"#000000\" font-family=\"Times,serif\" font-size=\"14.00\" text-anchor=\"middle\" x=\"233.2383\" y=\"-250.3\">(None, 64)</text>\n",
       "</g>\n",
       "<!-- 4721730840&#45;&gt;4721730448 -->\n",
       "<g class=\"edge\" id=\"edge1\">\n",
       "<title>4721730840-&gt;4721730448</title>\n",
       "<path d=\"M153.2778,-324.3664C153.2778,-316.1516 153.2778,-306.6579 153.2778,-297.7252\" fill=\"none\" stroke=\"#000000\"/>\n",
       "<polygon fill=\"#000000\" points=\"156.7779,-297.6068 153.2778,-287.6068 149.7779,-297.6069 156.7779,-297.6068\" stroke=\"#000000\"/>\n",
       "</g>\n",
       "<!-- 4721730560 -->\n",
       "<g class=\"node\" id=\"node3\">\n",
       "<title>4721730560</title>\n",
       "<polygon fill=\"none\" points=\"11.6587,-162.5 11.6587,-206.5 294.897,-206.5 294.897,-162.5 11.6587,-162.5\" stroke=\"#000000\"/>\n",
       "<text fill=\"#000000\" font-family=\"Times,serif\" font-size=\"14.00\" text-anchor=\"middle\" x=\"87.1191\" y=\"-180.3\">activation_1: Activation</text>\n",
       "<polyline fill=\"none\" points=\"162.5796,-162.5 162.5796,-206.5 \" stroke=\"#000000\"/>\n",
       "<text fill=\"#000000\" font-family=\"Times,serif\" font-size=\"14.00\" text-anchor=\"middle\" x=\"190.4141\" y=\"-191.3\">input:</text>\n",
       "<polyline fill=\"none\" points=\"162.5796,-184.5 218.2485,-184.5 \" stroke=\"#000000\"/>\n",
       "<text fill=\"#000000\" font-family=\"Times,serif\" font-size=\"14.00\" text-anchor=\"middle\" x=\"190.4141\" y=\"-169.3\">output:</text>\n",
       "<polyline fill=\"none\" points=\"218.2485,-162.5 218.2485,-206.5 \" stroke=\"#000000\"/>\n",
       "<text fill=\"#000000\" font-family=\"Times,serif\" font-size=\"14.00\" text-anchor=\"middle\" x=\"256.5728\" y=\"-191.3\">(None, 64)</text>\n",
       "<polyline fill=\"none\" points=\"218.2485,-184.5 294.897,-184.5 \" stroke=\"#000000\"/>\n",
       "<text fill=\"#000000\" font-family=\"Times,serif\" font-size=\"14.00\" text-anchor=\"middle\" x=\"256.5728\" y=\"-169.3\">(None, 64)</text>\n",
       "</g>\n",
       "<!-- 4721730448&#45;&gt;4721730560 -->\n",
       "<g class=\"edge\" id=\"edge2\">\n",
       "<title>4721730448-&gt;4721730560</title>\n",
       "<path d=\"M153.2778,-243.3664C153.2778,-235.1516 153.2778,-225.6579 153.2778,-216.7252\" fill=\"none\" stroke=\"#000000\"/>\n",
       "<polygon fill=\"#000000\" points=\"156.7779,-216.6068 153.2778,-206.6068 149.7779,-216.6069 156.7779,-216.6068\" stroke=\"#000000\"/>\n",
       "</g>\n",
       "<!-- 4721731512 -->\n",
       "<g class=\"node\" id=\"node4\">\n",
       "<title>4721731512</title>\n",
       "<polygon fill=\"none\" points=\"34.9932,-81.5 34.9932,-125.5 271.5625,-125.5 271.5625,-81.5 34.9932,-81.5\" stroke=\"#000000\"/>\n",
       "<text fill=\"#000000\" font-family=\"Times,serif\" font-size=\"14.00\" text-anchor=\"middle\" x=\"87.1191\" y=\"-99.3\">dense_2: Dense</text>\n",
       "<polyline fill=\"none\" points=\"139.2451,-81.5 139.2451,-125.5 \" stroke=\"#000000\"/>\n",
       "<text fill=\"#000000\" font-family=\"Times,serif\" font-size=\"14.00\" text-anchor=\"middle\" x=\"167.0796\" y=\"-110.3\">input:</text>\n",
       "<polyline fill=\"none\" points=\"139.2451,-103.5 194.9141,-103.5 \" stroke=\"#000000\"/>\n",
       "<text fill=\"#000000\" font-family=\"Times,serif\" font-size=\"14.00\" text-anchor=\"middle\" x=\"167.0796\" y=\"-88.3\">output:</text>\n",
       "<polyline fill=\"none\" points=\"194.9141,-81.5 194.9141,-125.5 \" stroke=\"#000000\"/>\n",
       "<text fill=\"#000000\" font-family=\"Times,serif\" font-size=\"14.00\" text-anchor=\"middle\" x=\"233.2383\" y=\"-110.3\">(None, 64)</text>\n",
       "<polyline fill=\"none\" points=\"194.9141,-103.5 271.5625,-103.5 \" stroke=\"#000000\"/>\n",
       "<text fill=\"#000000\" font-family=\"Times,serif\" font-size=\"14.00\" text-anchor=\"middle\" x=\"233.2383\" y=\"-88.3\">(None, 10)</text>\n",
       "</g>\n",
       "<!-- 4721730560&#45;&gt;4721731512 -->\n",
       "<g class=\"edge\" id=\"edge3\">\n",
       "<title>4721730560-&gt;4721731512</title>\n",
       "<path d=\"M153.2778,-162.3664C153.2778,-154.1516 153.2778,-144.6579 153.2778,-135.7252\" fill=\"none\" stroke=\"#000000\"/>\n",
       "<polygon fill=\"#000000\" points=\"156.7779,-135.6068 153.2778,-125.6068 149.7779,-135.6069 156.7779,-135.6068\" stroke=\"#000000\"/>\n",
       "</g>\n",
       "<!-- 4721731736 -->\n",
       "<g class=\"node\" id=\"node5\">\n",
       "<title>4721731736</title>\n",
       "<polygon fill=\"none\" points=\"11.6587,-.5 11.6587,-44.5 294.897,-44.5 294.897,-.5 11.6587,-.5\" stroke=\"#000000\"/>\n",
       "<text fill=\"#000000\" font-family=\"Times,serif\" font-size=\"14.00\" text-anchor=\"middle\" x=\"87.1191\" y=\"-18.3\">activation_2: Activation</text>\n",
       "<polyline fill=\"none\" points=\"162.5796,-.5 162.5796,-44.5 \" stroke=\"#000000\"/>\n",
       "<text fill=\"#000000\" font-family=\"Times,serif\" font-size=\"14.00\" text-anchor=\"middle\" x=\"190.4141\" y=\"-29.3\">input:</text>\n",
       "<polyline fill=\"none\" points=\"162.5796,-22.5 218.2485,-22.5 \" stroke=\"#000000\"/>\n",
       "<text fill=\"#000000\" font-family=\"Times,serif\" font-size=\"14.00\" text-anchor=\"middle\" x=\"190.4141\" y=\"-7.3\">output:</text>\n",
       "<polyline fill=\"none\" points=\"218.2485,-.5 218.2485,-44.5 \" stroke=\"#000000\"/>\n",
       "<text fill=\"#000000\" font-family=\"Times,serif\" font-size=\"14.00\" text-anchor=\"middle\" x=\"256.5728\" y=\"-29.3\">(None, 10)</text>\n",
       "<polyline fill=\"none\" points=\"218.2485,-22.5 294.897,-22.5 \" stroke=\"#000000\"/>\n",
       "<text fill=\"#000000\" font-family=\"Times,serif\" font-size=\"14.00\" text-anchor=\"middle\" x=\"256.5728\" y=\"-7.3\">(None, 10)</text>\n",
       "</g>\n",
       "<!-- 4721731512&#45;&gt;4721731736 -->\n",
       "<g class=\"edge\" id=\"edge4\">\n",
       "<title>4721731512-&gt;4721731736</title>\n",
       "<path d=\"M153.2778,-81.3664C153.2778,-73.1516 153.2778,-63.6579 153.2778,-54.7252\" fill=\"none\" stroke=\"#000000\"/>\n",
       "<polygon fill=\"#000000\" points=\"156.7779,-54.6068 153.2778,-44.6068 149.7779,-54.6069 156.7779,-54.6068\" stroke=\"#000000\"/>\n",
       "</g>\n",
       "</g>\n",
       "</svg>"
      ],
      "text/plain": [
       "<IPython.core.display.SVG object>"
      ]
     },
     "execution_count": 9,
     "metadata": {},
     "output_type": "execute_result"
    }
   ],
   "source": [
    "from IPython.display import SVG\n",
    "from keras.utils.vis_utils import model_to_dot\n",
    "\n",
    "SVG(model_to_dot(model, rankdir='TB', show_shapes=True, show_layer_names=False).create(\n",
    "    prog='dot', format='svg'))"
   ]
  },
  {
   "cell_type": "code",
   "execution_count": null,
   "metadata": {
    "collapsed": true
   },
   "outputs": [],
   "source": []
  }
 ],
 "metadata": {
  "kernelspec": {
   "display_name": "Python 3",
   "language": "python",
   "name": "python3"
  },
  "language_info": {
   "codemirror_mode": {
    "name": "ipython",
    "version": 3
   },
   "file_extension": ".py",
   "mimetype": "text/x-python",
   "name": "python",
   "nbconvert_exporter": "python",
   "pygments_lexer": "ipython3",
   "version": "3.6.1"
  }
 },
 "nbformat": 4,
 "nbformat_minor": 2
}
